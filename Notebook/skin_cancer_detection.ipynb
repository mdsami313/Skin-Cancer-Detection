{
  "cells": [
    {
      "cell_type": "markdown",
      "id": "J2ImrVjHXVx0",
      "metadata": {
        "id": "J2ImrVjHXVx0"
      },
      "source": [
        "## Importing Neccessary Libraries"
      ]
    },
    {
      "cell_type": "code",
      "execution_count": 1,
      "id": "c63eaac6",
      "metadata": {
        "_cell_guid": "b1076dfc-b9ad-4769-8c92-a6c4dae69d19",
        "_uuid": "8f2839f25d086af736a60e9eeb907d3b93b6e0e5",
        "colab": {
          "base_uri": "https://localhost:8080/"
        },
        "execution": {
          "iopub.execute_input": "2023-11-09T03:28:44.955299Z",
          "iopub.status.busy": "2023-11-09T03:28:44.954359Z",
          "iopub.status.idle": "2023-11-09T03:28:57.325617Z",
          "shell.execute_reply": "2023-11-09T03:28:57.324042Z"
        },
        "id": "c63eaac6",
        "outputId": "41ee65be-89bc-4818-ba31-c4dab5fc6031",
        "papermill": {
          "duration": 12.38651,
          "end_time": "2023-11-09T03:28:57.329346",
          "exception": false,
          "start_time": "2023-11-09T03:28:44.942836",
          "status": "completed"
        },
        "tags": []
      },
      "outputs": [
        {
          "name": "stdout",
          "output_type": "stream",
          "text": [
            "modules loaded\n"
          ]
        }
      ],
      "source": [
        "import os\n",
        "import time\n",
        "import shutil\n",
        "import itertools\n",
        "import random\n",
        "# import data handling tools\n",
        "import cv2\n",
        "import numpy as np\n",
        "import pandas as pd\n",
        "import seaborn as sns\n",
        "sns.set_style('darkgrid')\n",
        "import matplotlib.pyplot as plt\n",
        "# import Deep learning Libraries\n",
        "import tensorflow as tf\n",
        "from tensorflow import keras\n",
        "from tensorflow.keras.layers import Conv2D, MaxPooling2D, Flatten, Dense, Activation, Dropout, BatchNormalization\n",
        "from tensorflow.keras.models import Model, load_model, Sequential\n",
        "from tensorflow.keras.preprocessing.image import ImageDataGenerator\n",
        "from sklearn.metrics import confusion_matrix, classification_report\n",
        "from sklearn.model_selection import train_test_split\n",
        "from tensorflow.keras.optimizers import Adam, Adamax\n",
        "from tensorflow.keras import regularizers\n",
        "from tensorflow.keras.metrics import categorical_crossentropy\n",
        "\n",
        "\n",
        "print ('modules loaded')"
      ]
    },
    {
      "cell_type": "markdown",
      "id": "ASQeb25cXbxS",
      "metadata": {
        "id": "ASQeb25cXbxS"
      },
      "source": [
        "## preprocessing The Dataset"
      ]
    },
    {
      "cell_type": "code",
      "execution_count": 2,
      "id": "cc5a492d",
      "metadata": {
        "colab": {
          "base_uri": "https://localhost:8080/",
          "height": 255
        },
        "execution": {
          "iopub.execute_input": "2023-11-09T03:28:57.350159Z",
          "iopub.status.busy": "2023-11-09T03:28:57.349401Z",
          "iopub.status.idle": "2023-11-09T03:29:03.134251Z",
          "shell.execute_reply": "2023-11-09T03:29:03.132935Z"
        },
        "id": "cc5a492d",
        "outputId": "b961279c-afab-4bf7-ba54-445cf94814f8",
        "papermill": {
          "duration": 5.798461,
          "end_time": "2023-11-09T03:29:03.137496",
          "exception": false,
          "start_time": "2023-11-09T03:28:57.339035",
          "status": "completed"
        },
        "tags": []
      },
      "outputs": [
        {
          "data": {
            "application/vnd.google.colaboratory.intrinsic+json": {
              "type": "dataframe",
              "variable_name": "data"
            },
            "text/html": [
              "\n",
              "  <div id=\"df-ca31294a-39b5-4802-abf7-94ba0f68de8d\" class=\"colab-df-container\">\n",
              "    <div>\n",
              "<style scoped>\n",
              "    .dataframe tbody tr th:only-of-type {\n",
              "        vertical-align: middle;\n",
              "    }\n",
              "\n",
              "    .dataframe tbody tr th {\n",
              "        vertical-align: top;\n",
              "    }\n",
              "\n",
              "    .dataframe thead th {\n",
              "        text-align: right;\n",
              "    }\n",
              "</style>\n",
              "<table border=\"1\" class=\"dataframe\">\n",
              "  <thead>\n",
              "    <tr style=\"text-align: right;\">\n",
              "      <th></th>\n",
              "      <th>pixel0000</th>\n",
              "      <th>pixel0001</th>\n",
              "      <th>pixel0002</th>\n",
              "      <th>pixel0003</th>\n",
              "      <th>pixel0004</th>\n",
              "      <th>pixel0005</th>\n",
              "      <th>pixel0006</th>\n",
              "      <th>pixel0007</th>\n",
              "      <th>pixel0008</th>\n",
              "      <th>pixel0009</th>\n",
              "      <th>...</th>\n",
              "      <th>pixel2343</th>\n",
              "      <th>pixel2344</th>\n",
              "      <th>pixel2345</th>\n",
              "      <th>pixel2346</th>\n",
              "      <th>pixel2347</th>\n",
              "      <th>pixel2348</th>\n",
              "      <th>pixel2349</th>\n",
              "      <th>pixel2350</th>\n",
              "      <th>pixel2351</th>\n",
              "      <th>label</th>\n",
              "    </tr>\n",
              "  </thead>\n",
              "  <tbody>\n",
              "    <tr>\n",
              "      <th>0</th>\n",
              "      <td>192</td>\n",
              "      <td>153</td>\n",
              "      <td>193</td>\n",
              "      <td>195</td>\n",
              "      <td>155</td>\n",
              "      <td>192</td>\n",
              "      <td>197</td>\n",
              "      <td>154</td>\n",
              "      <td>185</td>\n",
              "      <td>202</td>\n",
              "      <td>...</td>\n",
              "      <td>173</td>\n",
              "      <td>124</td>\n",
              "      <td>138</td>\n",
              "      <td>183</td>\n",
              "      <td>147</td>\n",
              "      <td>166</td>\n",
              "      <td>185</td>\n",
              "      <td>154</td>\n",
              "      <td>177</td>\n",
              "      <td>2</td>\n",
              "    </tr>\n",
              "    <tr>\n",
              "      <th>1</th>\n",
              "      <td>25</td>\n",
              "      <td>14</td>\n",
              "      <td>30</td>\n",
              "      <td>68</td>\n",
              "      <td>48</td>\n",
              "      <td>75</td>\n",
              "      <td>123</td>\n",
              "      <td>93</td>\n",
              "      <td>126</td>\n",
              "      <td>158</td>\n",
              "      <td>...</td>\n",
              "      <td>60</td>\n",
              "      <td>39</td>\n",
              "      <td>55</td>\n",
              "      <td>25</td>\n",
              "      <td>14</td>\n",
              "      <td>28</td>\n",
              "      <td>25</td>\n",
              "      <td>14</td>\n",
              "      <td>27</td>\n",
              "      <td>2</td>\n",
              "    </tr>\n",
              "    <tr>\n",
              "      <th>2</th>\n",
              "      <td>192</td>\n",
              "      <td>138</td>\n",
              "      <td>153</td>\n",
              "      <td>200</td>\n",
              "      <td>145</td>\n",
              "      <td>163</td>\n",
              "      <td>201</td>\n",
              "      <td>142</td>\n",
              "      <td>160</td>\n",
              "      <td>206</td>\n",
              "      <td>...</td>\n",
              "      <td>167</td>\n",
              "      <td>129</td>\n",
              "      <td>143</td>\n",
              "      <td>159</td>\n",
              "      <td>124</td>\n",
              "      <td>142</td>\n",
              "      <td>136</td>\n",
              "      <td>104</td>\n",
              "      <td>117</td>\n",
              "      <td>2</td>\n",
              "    </tr>\n",
              "    <tr>\n",
              "      <th>3</th>\n",
              "      <td>38</td>\n",
              "      <td>19</td>\n",
              "      <td>30</td>\n",
              "      <td>95</td>\n",
              "      <td>59</td>\n",
              "      <td>72</td>\n",
              "      <td>143</td>\n",
              "      <td>103</td>\n",
              "      <td>119</td>\n",
              "      <td>171</td>\n",
              "      <td>...</td>\n",
              "      <td>44</td>\n",
              "      <td>26</td>\n",
              "      <td>36</td>\n",
              "      <td>25</td>\n",
              "      <td>12</td>\n",
              "      <td>17</td>\n",
              "      <td>25</td>\n",
              "      <td>12</td>\n",
              "      <td>15</td>\n",
              "      <td>2</td>\n",
              "    </tr>\n",
              "    <tr>\n",
              "      <th>4</th>\n",
              "      <td>158</td>\n",
              "      <td>113</td>\n",
              "      <td>139</td>\n",
              "      <td>194</td>\n",
              "      <td>144</td>\n",
              "      <td>174</td>\n",
              "      <td>215</td>\n",
              "      <td>162</td>\n",
              "      <td>191</td>\n",
              "      <td>225</td>\n",
              "      <td>...</td>\n",
              "      <td>209</td>\n",
              "      <td>166</td>\n",
              "      <td>185</td>\n",
              "      <td>172</td>\n",
              "      <td>135</td>\n",
              "      <td>149</td>\n",
              "      <td>109</td>\n",
              "      <td>78</td>\n",
              "      <td>92</td>\n",
              "      <td>2</td>\n",
              "    </tr>\n",
              "  </tbody>\n",
              "</table>\n",
              "<p>5 rows × 2353 columns</p>\n",
              "</div>\n",
              "    <div class=\"colab-df-buttons\">\n",
              "\n",
              "  <div class=\"colab-df-container\">\n",
              "    <button class=\"colab-df-convert\" onclick=\"convertToInteractive('df-ca31294a-39b5-4802-abf7-94ba0f68de8d')\"\n",
              "            title=\"Convert this dataframe to an interactive table.\"\n",
              "            style=\"display:none;\">\n",
              "\n",
              "  <svg xmlns=\"http://www.w3.org/2000/svg\" height=\"24px\" viewBox=\"0 -960 960 960\">\n",
              "    <path d=\"M120-120v-720h720v720H120Zm60-500h600v-160H180v160Zm220 220h160v-160H400v160Zm0 220h160v-160H400v160ZM180-400h160v-160H180v160Zm440 0h160v-160H620v160ZM180-180h160v-160H180v160Zm440 0h160v-160H620v160Z\"/>\n",
              "  </svg>\n",
              "    </button>\n",
              "\n",
              "  <style>\n",
              "    .colab-df-container {\n",
              "      display:flex;\n",
              "      gap: 12px;\n",
              "    }\n",
              "\n",
              "    .colab-df-convert {\n",
              "      background-color: #E8F0FE;\n",
              "      border: none;\n",
              "      border-radius: 50%;\n",
              "      cursor: pointer;\n",
              "      display: none;\n",
              "      fill: #1967D2;\n",
              "      height: 32px;\n",
              "      padding: 0 0 0 0;\n",
              "      width: 32px;\n",
              "    }\n",
              "\n",
              "    .colab-df-convert:hover {\n",
              "      background-color: #E2EBFA;\n",
              "      box-shadow: 0px 1px 2px rgba(60, 64, 67, 0.3), 0px 1px 3px 1px rgba(60, 64, 67, 0.15);\n",
              "      fill: #174EA6;\n",
              "    }\n",
              "\n",
              "    .colab-df-buttons div {\n",
              "      margin-bottom: 4px;\n",
              "    }\n",
              "\n",
              "    [theme=dark] .colab-df-convert {\n",
              "      background-color: #3B4455;\n",
              "      fill: #D2E3FC;\n",
              "    }\n",
              "\n",
              "    [theme=dark] .colab-df-convert:hover {\n",
              "      background-color: #434B5C;\n",
              "      box-shadow: 0px 1px 3px 1px rgba(0, 0, 0, 0.15);\n",
              "      filter: drop-shadow(0px 1px 2px rgba(0, 0, 0, 0.3));\n",
              "      fill: #FFFFFF;\n",
              "    }\n",
              "  </style>\n",
              "\n",
              "    <script>\n",
              "      const buttonEl =\n",
              "        document.querySelector('#df-ca31294a-39b5-4802-abf7-94ba0f68de8d button.colab-df-convert');\n",
              "      buttonEl.style.display =\n",
              "        google.colab.kernel.accessAllowed ? 'block' : 'none';\n",
              "\n",
              "      async function convertToInteractive(key) {\n",
              "        const element = document.querySelector('#df-ca31294a-39b5-4802-abf7-94ba0f68de8d');\n",
              "        const dataTable =\n",
              "          await google.colab.kernel.invokeFunction('convertToInteractive',\n",
              "                                                    [key], {});\n",
              "        if (!dataTable) return;\n",
              "\n",
              "        const docLinkHtml = 'Like what you see? Visit the ' +\n",
              "          '<a target=\"_blank\" href=https://colab.research.google.com/notebooks/data_table.ipynb>data table notebook</a>'\n",
              "          + ' to learn more about interactive tables.';\n",
              "        element.innerHTML = '';\n",
              "        dataTable['output_type'] = 'display_data';\n",
              "        await google.colab.output.renderOutput(dataTable, element);\n",
              "        const docLink = document.createElement('div');\n",
              "        docLink.innerHTML = docLinkHtml;\n",
              "        element.appendChild(docLink);\n",
              "      }\n",
              "    </script>\n",
              "  </div>\n",
              "\n",
              "\n",
              "<div id=\"df-f16e3420-a0f7-4d36-b8eb-5c1f2074b8ed\">\n",
              "  <button class=\"colab-df-quickchart\" onclick=\"quickchart('df-f16e3420-a0f7-4d36-b8eb-5c1f2074b8ed')\"\n",
              "            title=\"Suggest charts\"\n",
              "            style=\"display:none;\">\n",
              "\n",
              "<svg xmlns=\"http://www.w3.org/2000/svg\" height=\"24px\"viewBox=\"0 0 24 24\"\n",
              "     width=\"24px\">\n",
              "    <g>\n",
              "        <path d=\"M19 3H5c-1.1 0-2 .9-2 2v14c0 1.1.9 2 2 2h14c1.1 0 2-.9 2-2V5c0-1.1-.9-2-2-2zM9 17H7v-7h2v7zm4 0h-2V7h2v10zm4 0h-2v-4h2v4z\"/>\n",
              "    </g>\n",
              "</svg>\n",
              "  </button>\n",
              "\n",
              "<style>\n",
              "  .colab-df-quickchart {\n",
              "      --bg-color: #E8F0FE;\n",
              "      --fill-color: #1967D2;\n",
              "      --hover-bg-color: #E2EBFA;\n",
              "      --hover-fill-color: #174EA6;\n",
              "      --disabled-fill-color: #AAA;\n",
              "      --disabled-bg-color: #DDD;\n",
              "  }\n",
              "\n",
              "  [theme=dark] .colab-df-quickchart {\n",
              "      --bg-color: #3B4455;\n",
              "      --fill-color: #D2E3FC;\n",
              "      --hover-bg-color: #434B5C;\n",
              "      --hover-fill-color: #FFFFFF;\n",
              "      --disabled-bg-color: #3B4455;\n",
              "      --disabled-fill-color: #666;\n",
              "  }\n",
              "\n",
              "  .colab-df-quickchart {\n",
              "    background-color: var(--bg-color);\n",
              "    border: none;\n",
              "    border-radius: 50%;\n",
              "    cursor: pointer;\n",
              "    display: none;\n",
              "    fill: var(--fill-color);\n",
              "    height: 32px;\n",
              "    padding: 0;\n",
              "    width: 32px;\n",
              "  }\n",
              "\n",
              "  .colab-df-quickchart:hover {\n",
              "    background-color: var(--hover-bg-color);\n",
              "    box-shadow: 0 1px 2px rgba(60, 64, 67, 0.3), 0 1px 3px 1px rgba(60, 64, 67, 0.15);\n",
              "    fill: var(--button-hover-fill-color);\n",
              "  }\n",
              "\n",
              "  .colab-df-quickchart-complete:disabled,\n",
              "  .colab-df-quickchart-complete:disabled:hover {\n",
              "    background-color: var(--disabled-bg-color);\n",
              "    fill: var(--disabled-fill-color);\n",
              "    box-shadow: none;\n",
              "  }\n",
              "\n",
              "  .colab-df-spinner {\n",
              "    border: 2px solid var(--fill-color);\n",
              "    border-color: transparent;\n",
              "    border-bottom-color: var(--fill-color);\n",
              "    animation:\n",
              "      spin 1s steps(1) infinite;\n",
              "  }\n",
              "\n",
              "  @keyframes spin {\n",
              "    0% {\n",
              "      border-color: transparent;\n",
              "      border-bottom-color: var(--fill-color);\n",
              "      border-left-color: var(--fill-color);\n",
              "    }\n",
              "    20% {\n",
              "      border-color: transparent;\n",
              "      border-left-color: var(--fill-color);\n",
              "      border-top-color: var(--fill-color);\n",
              "    }\n",
              "    30% {\n",
              "      border-color: transparent;\n",
              "      border-left-color: var(--fill-color);\n",
              "      border-top-color: var(--fill-color);\n",
              "      border-right-color: var(--fill-color);\n",
              "    }\n",
              "    40% {\n",
              "      border-color: transparent;\n",
              "      border-right-color: var(--fill-color);\n",
              "      border-top-color: var(--fill-color);\n",
              "    }\n",
              "    60% {\n",
              "      border-color: transparent;\n",
              "      border-right-color: var(--fill-color);\n",
              "    }\n",
              "    80% {\n",
              "      border-color: transparent;\n",
              "      border-right-color: var(--fill-color);\n",
              "      border-bottom-color: var(--fill-color);\n",
              "    }\n",
              "    90% {\n",
              "      border-color: transparent;\n",
              "      border-bottom-color: var(--fill-color);\n",
              "    }\n",
              "  }\n",
              "</style>\n",
              "\n",
              "  <script>\n",
              "    async function quickchart(key) {\n",
              "      const quickchartButtonEl =\n",
              "        document.querySelector('#' + key + ' button');\n",
              "      quickchartButtonEl.disabled = true;  // To prevent multiple clicks.\n",
              "      quickchartButtonEl.classList.add('colab-df-spinner');\n",
              "      try {\n",
              "        const charts = await google.colab.kernel.invokeFunction(\n",
              "            'suggestCharts', [key], {});\n",
              "      } catch (error) {\n",
              "        console.error('Error during call to suggestCharts:', error);\n",
              "      }\n",
              "      quickchartButtonEl.classList.remove('colab-df-spinner');\n",
              "      quickchartButtonEl.classList.add('colab-df-quickchart-complete');\n",
              "    }\n",
              "    (() => {\n",
              "      let quickchartButtonEl =\n",
              "        document.querySelector('#df-f16e3420-a0f7-4d36-b8eb-5c1f2074b8ed button');\n",
              "      quickchartButtonEl.style.display =\n",
              "        google.colab.kernel.accessAllowed ? 'block' : 'none';\n",
              "    })();\n",
              "  </script>\n",
              "</div>\n",
              "\n",
              "    </div>\n",
              "  </div>\n"
            ],
            "text/plain": [
              "   pixel0000  pixel0001  pixel0002  pixel0003  pixel0004  pixel0005  \\\n",
              "0        192        153        193        195        155        192   \n",
              "1         25         14         30         68         48         75   \n",
              "2        192        138        153        200        145        163   \n",
              "3         38         19         30         95         59         72   \n",
              "4        158        113        139        194        144        174   \n",
              "\n",
              "   pixel0006  pixel0007  pixel0008  pixel0009  ...  pixel2343  pixel2344  \\\n",
              "0        197        154        185        202  ...        173        124   \n",
              "1        123         93        126        158  ...         60         39   \n",
              "2        201        142        160        206  ...        167        129   \n",
              "3        143        103        119        171  ...         44         26   \n",
              "4        215        162        191        225  ...        209        166   \n",
              "\n",
              "   pixel2345  pixel2346  pixel2347  pixel2348  pixel2349  pixel2350  \\\n",
              "0        138        183        147        166        185        154   \n",
              "1         55         25         14         28         25         14   \n",
              "2        143        159        124        142        136        104   \n",
              "3         36         25         12         17         25         12   \n",
              "4        185        172        135        149        109         78   \n",
              "\n",
              "   pixel2351  label  \n",
              "0        177      2  \n",
              "1         27      2  \n",
              "2        117      2  \n",
              "3         15      2  \n",
              "4         92      2  \n",
              "\n",
              "[5 rows x 2353 columns]"
            ]
          },
          "execution_count": 2,
          "metadata": {},
          "output_type": "execute_result"
        }
      ],
      "source": [
        "data_dir = 'hmnist_28_28_RGB.csv'\n",
        "data = pd.read_csv(data_dir)\n",
        "data.head()"
      ]
    },
    {
      "cell_type": "code",
      "execution_count": 3,
      "id": "ad41f5ee",
      "metadata": {
        "execution": {
          "iopub.execute_input": "2023-11-09T03:29:03.159128Z",
          "iopub.status.busy": "2023-11-09T03:29:03.158332Z",
          "iopub.status.idle": "2023-11-09T03:29:03.250548Z",
          "shell.execute_reply": "2023-11-09T03:29:03.249308Z"
        },
        "id": "ad41f5ee",
        "papermill": {
          "duration": 0.106449,
          "end_time": "2023-11-09T03:29:03.253536",
          "exception": false,
          "start_time": "2023-11-09T03:29:03.147087",
          "status": "completed"
        },
        "tags": []
      },
      "outputs": [],
      "source": [
        "Label = data[\"label\"]\n",
        "Data = data.drop(columns=[\"label\"])"
      ]
    },
    {
      "cell_type": "code",
      "execution_count": 4,
      "id": "c8c46205",
      "metadata": {
        "colab": {
          "base_uri": "https://localhost:8080/"
        },
        "execution": {
          "iopub.execute_input": "2023-11-09T03:29:03.275161Z",
          "iopub.status.busy": "2023-11-09T03:29:03.273918Z",
          "iopub.status.idle": "2023-11-09T03:29:03.288566Z",
          "shell.execute_reply": "2023-11-09T03:29:03.287356Z"
        },
        "id": "c8c46205",
        "outputId": "988bc013-c7c5-4474-d482-9ffc2b5ec88a",
        "papermill": {
          "duration": 0.028376,
          "end_time": "2023-11-09T03:29:03.291428",
          "exception": false,
          "start_time": "2023-11-09T03:29:03.263052",
          "status": "completed"
        },
        "tags": []
      },
      "outputs": [
        {
          "data": {
            "text/plain": [
              "4    6705\n",
              "6    1113\n",
              "2    1099\n",
              "1     514\n",
              "0     327\n",
              "5     142\n",
              "3     115\n",
              "Name: label, dtype: int64"
            ]
          },
          "execution_count": 4,
          "metadata": {},
          "output_type": "execute_result"
        }
      ],
      "source": [
        "data[\"label\"].value_counts()\n"
      ]
    },
    {
      "cell_type": "markdown",
      "id": "5erosuGLXh4q",
      "metadata": {
        "id": "5erosuGLXh4q"
      },
      "source": [
        "##  randomly selecting examples from the minority class, with replacement, and adding them to the training dataset"
      ]
    },
    {
      "cell_type": "code",
      "execution_count": 5,
      "id": "c8b64b35",
      "metadata": {
        "colab": {
          "base_uri": "https://localhost:8080/"
        },
        "execution": {
          "iopub.execute_input": "2023-11-09T03:29:03.313450Z",
          "iopub.status.busy": "2023-11-09T03:29:03.313038Z",
          "iopub.status.idle": "2023-11-09T03:29:06.409928Z",
          "shell.execute_reply": "2023-11-09T03:29:06.408575Z"
        },
        "id": "c8b64b35",
        "outputId": "d2d57f14-6591-41c8-cabc-819cd55297ae",
        "papermill": {
          "duration": 3.111583,
          "end_time": "2023-11-09T03:29:06.412740",
          "exception": false,
          "start_time": "2023-11-09T03:29:03.301157",
          "status": "completed"
        },
        "tags": []
      },
      "outputs": [
        {
          "name": "stdout",
          "output_type": "stream",
          "text": [
            "Shape of Data : (46935, 28, 28, 3)\n"
          ]
        }
      ],
      "source": [
        "from imblearn.over_sampling import RandomOverSampler   #augmentation\n",
        "\n",
        "oversample = RandomOverSampler()\n",
        "Data, Label  = oversample.fit_resample(Data, Label)\n",
        "Data = np.array(Data).reshape(-1, 28, 28, 3)\n",
        "print('Shape of Data :', Data.shape)"
      ]
    },
    {
      "cell_type": "code",
      "execution_count": 6,
      "id": "4efb5afc",
      "metadata": {
        "colab": {
          "base_uri": "https://localhost:8080/"
        },
        "execution": {
          "iopub.execute_input": "2023-11-09T03:29:06.434745Z",
          "iopub.status.busy": "2023-11-09T03:29:06.433868Z",
          "iopub.status.idle": "2023-11-09T03:29:06.442371Z",
          "shell.execute_reply": "2023-11-09T03:29:06.441180Z"
        },
        "id": "4efb5afc",
        "outputId": "f4513394-ff16-4388-a6c0-0d436f54f3bb",
        "papermill": {
          "duration": 0.022461,
          "end_time": "2023-11-09T03:29:06.444985",
          "exception": false,
          "start_time": "2023-11-09T03:29:06.422524",
          "status": "completed"
        },
        "tags": []
      },
      "outputs": [
        {
          "data": {
            "text/plain": [
              "array([2, 2, 2, ..., 6, 6, 6])"
            ]
          },
          "execution_count": 6,
          "metadata": {},
          "output_type": "execute_result"
        }
      ],
      "source": [
        "Label = np.array(Label)\n",
        "Label"
      ]
    },
    {
      "cell_type": "markdown",
      "id": "ZrZag6_iUYMS",
      "metadata": {
        "id": "ZrZag6_iUYMS"
      },
      "source": [
        "## Skin Cancer Classes"
      ]
    },
    {
      "cell_type": "code",
      "execution_count": 7,
      "id": "8dcfec75",
      "metadata": {
        "execution": {
          "iopub.execute_input": "2023-11-09T03:29:06.468253Z",
          "iopub.status.busy": "2023-11-09T03:29:06.467181Z",
          "iopub.status.idle": "2023-11-09T03:29:06.473556Z",
          "shell.execute_reply": "2023-11-09T03:29:06.472605Z"
        },
        "id": "8dcfec75",
        "papermill": {
          "duration": 0.020377,
          "end_time": "2023-11-09T03:29:06.475993",
          "exception": false,
          "start_time": "2023-11-09T03:29:06.455616",
          "status": "completed"
        },
        "tags": []
      },
      "outputs": [],
      "source": [
        "classes = {4: ('nv', ' melanocytic nevi'),\n",
        "           6: ('mel', 'melanoma'),\n",
        "           2 :('bkl', 'benign keratosis-like lesions'),\n",
        "           1:('bcc' , ' basal cell carcinoma'),\n",
        "           5: ('vasc', ' pyogenic granulomas and hemorrhage'),\n",
        "           0: ('akiec', 'Actinic keratoses and intraepithelial carcinomae'),\n",
        "           3: ('df', 'dermatofibroma')}"
      ]
    },
    {
      "cell_type": "markdown",
      "id": "lsmMixd8XxCA",
      "metadata": {
        "id": "lsmMixd8XxCA"
      },
      "source": [
        "## Splitting The Dataset Into Test Set And Training Set"
      ]
    },
    {
      "cell_type": "code",
      "execution_count": 8,
      "id": "020be94e",
      "metadata": {
        "execution": {
          "iopub.execute_input": "2023-11-09T03:29:06.498015Z",
          "iopub.status.busy": "2023-11-09T03:29:06.497627Z",
          "iopub.status.idle": "2023-11-09T03:29:07.836208Z",
          "shell.execute_reply": "2023-11-09T03:29:07.834651Z"
        },
        "id": "020be94e",
        "papermill": {
          "duration": 1.353319,
          "end_time": "2023-11-09T03:29:07.839154",
          "exception": false,
          "start_time": "2023-11-09T03:29:06.485835",
          "status": "completed"
        },
        "tags": []
      },
      "outputs": [],
      "source": [
        "from sklearn.model_selection import train_test_split\n",
        "\n",
        "X_train , X_test , y_train , y_test = train_test_split(Data , Label , test_size = 0.25 , random_state = 49)"
      ]
    },
    {
      "cell_type": "code",
      "execution_count": 9,
      "id": "5820fe79",
      "metadata": {
        "colab": {
          "base_uri": "https://localhost:8080/"
        },
        "execution": {
          "iopub.execute_input": "2023-11-09T03:29:07.861522Z",
          "iopub.status.busy": "2023-11-09T03:29:07.861094Z",
          "iopub.status.idle": "2023-11-09T03:29:07.867202Z",
          "shell.execute_reply": "2023-11-09T03:29:07.866336Z"
        },
        "id": "5820fe79",
        "outputId": "702f4330-08f0-4298-b694-f5c3761a744a",
        "papermill": {
          "duration": 0.019844,
          "end_time": "2023-11-09T03:29:07.869785",
          "exception": false,
          "start_time": "2023-11-09T03:29:07.849941",
          "status": "completed"
        },
        "tags": []
      },
      "outputs": [
        {
          "name": "stdout",
          "output_type": "stream",
          "text": [
            "(35201, 28, 28, 3)\n",
            "(35201,)\n",
            "(11734, 28, 28, 3)\n",
            "(11734,)\n"
          ]
        }
      ],
      "source": [
        "print(X_train.shape)\n",
        "print(y_train.shape)\n",
        "print(X_test.shape)\n",
        "print(y_test.shape)"
      ]
    },
    {
      "cell_type": "code",
      "execution_count": 11,
      "id": "0ed4f67b",
      "metadata": {
        "execution": {
          "iopub.execute_input": "2023-11-09T03:29:07.891476Z",
          "iopub.status.busy": "2023-11-09T03:29:07.891043Z",
          "iopub.status.idle": "2023-11-09T03:29:07.897855Z",
          "shell.execute_reply": "2023-11-09T03:29:07.896669Z"
        },
        "id": "0ed4f67b",
        "papermill": {
          "duration": 0.020807,
          "end_time": "2023-11-09T03:29:07.900526",
          "exception": false,
          "start_time": "2023-11-09T03:29:07.879719",
          "status": "completed"
        },
        "tags": []
      },
      "outputs": [],
      "source": [
        "from keras.utils import to_categorical\n",
        "y_train = to_categorical(y_train)\n",
        "y_test = to_categorical(y_test)"
      ]
    },
    {
      "cell_type": "code",
      "execution_count": 12,
      "id": "38de8d7a",
      "metadata": {
        "colab": {
          "base_uri": "https://localhost:8080/"
        },
        "execution": {
          "iopub.execute_input": "2023-11-09T03:29:07.922893Z",
          "iopub.status.busy": "2023-11-09T03:29:07.922484Z",
          "iopub.status.idle": "2023-11-09T03:29:07.929304Z",
          "shell.execute_reply": "2023-11-09T03:29:07.928181Z"
        },
        "id": "38de8d7a",
        "outputId": "bf930771-e573-4d19-9bd5-18d448ff27e1",
        "papermill": {
          "duration": 0.021035,
          "end_time": "2023-11-09T03:29:07.932050",
          "exception": false,
          "start_time": "2023-11-09T03:29:07.911015",
          "status": "completed"
        },
        "tags": []
      },
      "outputs": [
        {
          "data": {
            "text/plain": [
              "(35201, 7)"
            ]
          },
          "execution_count": 12,
          "metadata": {},
          "output_type": "execute_result"
        }
      ],
      "source": [
        "y_train.shape"
      ]
    },
    {
      "cell_type": "code",
      "execution_count": 13,
      "id": "c3bbcce0",
      "metadata": {
        "colab": {
          "base_uri": "https://localhost:8080/"
        },
        "execution": {
          "iopub.execute_input": "2023-11-09T03:29:07.954012Z",
          "iopub.status.busy": "2023-11-09T03:29:07.953616Z",
          "iopub.status.idle": "2023-11-09T03:29:07.959732Z",
          "shell.execute_reply": "2023-11-09T03:29:07.958532Z"
        },
        "id": "c3bbcce0",
        "outputId": "9ccc05a3-44f5-4e15-9acb-6eeb562c05c6",
        "papermill": {
          "duration": 0.020764,
          "end_time": "2023-11-09T03:29:07.962817",
          "exception": false,
          "start_time": "2023-11-09T03:29:07.942053",
          "status": "completed"
        },
        "tags": []
      },
      "outputs": [
        {
          "name": "stdout",
          "output_type": "stream",
          "text": [
            "[0. 0. 0. 1. 0. 0. 0.]\n"
          ]
        }
      ],
      "source": [
        "print(y_train[0])"
      ]
    },
    {
      "cell_type": "markdown",
      "id": "wnXtQG49UllT",
      "metadata": {
        "id": "wnXtQG49UllT"
      },
      "source": [
        "## Displaying Random Image from The Training Set"
      ]
    },
    {
      "cell_type": "code",
      "execution_count": 14,
      "id": "4799cfdf",
      "metadata": {
        "colab": {
          "base_uri": "https://localhost:8080/",
          "height": 430
        },
        "execution": {
          "iopub.execute_input": "2023-11-09T03:29:07.985431Z",
          "iopub.status.busy": "2023-11-09T03:29:07.985009Z",
          "iopub.status.idle": "2023-11-09T03:29:08.301619Z",
          "shell.execute_reply": "2023-11-09T03:29:08.300273Z"
        },
        "id": "4799cfdf",
        "outputId": "d99b3174-4f04-49f6-c440-43da322baebb",
        "papermill": {
          "duration": 0.332314,
          "end_time": "2023-11-09T03:29:08.305624",
          "exception": false,
          "start_time": "2023-11-09T03:29:07.973310",
          "status": "completed"
        },
        "tags": []
      },
      "outputs": [
        {
          "data": {
            "image/png": "[encoded data removed]",
            "text/plain": [
              "<Figure size 640x480 with 1 Axes>"
            ]
          },
          "metadata": {},
          "output_type": "display_data"
        }
      ],
      "source": [
        "ind= random.randint(1,10000)\n",
        "plt.imshow(X_train[ind], cmap='gray')\n",
        "# plt.axis('off')\n",
        "plt.show()"
      ]
    },
    {
      "cell_type": "markdown",
      "id": "7LtaY4SNUwtq",
      "metadata": {
        "id": "7LtaY4SNUwtq"
      },
      "source": [
        "## Custom Callbacks For the learning rate"
      ]
    },
    {
      "cell_type": "code",
      "execution_count": 15,
      "id": "df8c0a82",
      "metadata": {
        "execution": {
          "iopub.execute_input": "2023-11-09T03:29:08.361742Z",
          "iopub.status.busy": "2023-11-09T03:29:08.361307Z",
          "iopub.status.idle": "2023-11-09T03:29:08.367554Z",
          "shell.execute_reply": "2023-11-09T03:29:08.366355Z"
        },
        "id": "df8c0a82",
        "papermill": {
          "duration": 0.021786,
          "end_time": "2023-11-09T03:29:08.370273",
          "exception": false,
          "start_time": "2023-11-09T03:29:08.348487",
          "status": "completed"
        },
        "tags": []
      },
      "outputs": [],
      "source": [
        "from keras.callbacks import ReduceLROnPlateau\n",
        "\n",
        "learning_rate_reduction = ReduceLROnPlateau(monitor='val_accuracy'\n",
        "                                            , patience = 2\n",
        "                                            , verbose=1\n",
        "                                            ,factor=0.5\n",
        "                                            , min_lr=0.00001)"
      ]
    },
    {
      "cell_type": "markdown",
      "id": "YAmCAdXmVFd4",
      "metadata": {
        "id": "YAmCAdXmVFd4"
      },
      "source": [
        "# Building CNN Training Model With Custom Hyperparameter Tuning"
      ]
    },
    {
      "cell_type": "code",
      "execution_count": 16,
      "id": "ac2e49b7",
      "metadata": {
        "colab": {
          "base_uri": "https://localhost:8080/"
        },
        "execution": {
          "iopub.execute_input": "2023-11-09T03:29:08.395487Z",
          "iopub.status.busy": "2023-11-09T03:29:08.392887Z",
          "iopub.status.idle": "2023-11-09T03:29:09.135724Z",
          "shell.execute_reply": "2023-11-09T03:29:09.135151Z"
        },
        "id": "ac2e49b7",
        "outputId": "09a216b9-19af-4bf7-fa93-bf16af15cbfb",
        "papermill": {
          "duration": 0.77863,
          "end_time": "2023-11-09T03:29:09.159425",
          "exception": false,
          "start_time": "2023-11-09T03:29:08.380795",
          "status": "completed"
        },
        "tags": []
      },
      "outputs": [
        {
          "name": "stdout",
          "output_type": "stream",
          "text": [
            "Model: \"sequential\"\n",
            "_________________________________________________________________\n",
            " Layer (type)                Output Shape              Param #   \n",
            "=================================================================\n",
            " conv2d (Conv2D)             (None, 28, 28, 32)        896       \n",
            "                                                                 \n",
            " max_pooling2d (MaxPooling2  (None, 14, 14, 32)        0         \n",
            " D)                                                              \n",
            "                                                                 \n",
            " batch_normalization (Batch  (None, 14, 14, 32)        128       \n",
            " Normalization)                                                  \n",
            "                                                                 \n",
            " conv2d_1 (Conv2D)           (None, 14, 14, 64)        18496     \n",
            "                                                                 \n",
            " conv2d_2 (Conv2D)           (None, 14, 14, 64)        36928     \n",
            "                                                                 \n",
            " max_pooling2d_1 (MaxPoolin  (None, 7, 7, 64)          0         \n",
            " g2D)                                                            \n",
            "                                                                 \n",
            " batch_normalization_1 (Bat  (None, 7, 7, 64)          256       \n",
            " chNormalization)                                                \n",
            "                                                                 \n",
            " conv2d_3 (Conv2D)           (None, 7, 7, 128)         73856     \n",
            "                                                                 \n",
            " conv2d_4 (Conv2D)           (None, 7, 7, 128)         147584    \n",
            "                                                                 \n",
            " max_pooling2d_2 (MaxPoolin  (None, 3, 3, 128)         0         \n",
            " g2D)                                                            \n",
            "                                                                 \n",
            " batch_normalization_2 (Bat  (None, 3, 3, 128)         512       \n",
            " chNormalization)                                                \n",
            "                                                                 \n",
            " flatten (Flatten)           (None, 1152)              0         \n",
            "                                                                 \n",
            " dropout (Dropout)           (None, 1152)              0         \n",
            "                                                                 \n",
            " dense (Dense)               (None, 128)               147584    \n",
            "                                                                 \n",
            " batch_normalization_3 (Bat  (None, 128)               512       \n",
            " chNormalization)                                                \n",
            "                                                                 \n",
            " dense_1 (Dense)             (None, 64)                8256      \n",
            "                                                                 \n",
            " batch_normalization_4 (Bat  (None, 64)                256       \n",
            " chNormalization)                                                \n",
            "                                                                 \n",
            " dense_2 (Dense)             (None, 32)                2080      \n",
            "                                                                 \n",
            " batch_normalization_5 (Bat  (None, 32)                128       \n",
            " chNormalization)                                                \n",
            "                                                                 \n",
            " dense_3 (Dense)             (None, 7)                 231       \n",
            "                                                                 \n",
            "=================================================================\n",
            "Total params: 437703 (1.67 MB)\n",
            "Trainable params: 436807 (1.67 MB)\n",
            "Non-trainable params: 896 (3.50 KB)\n",
            "_________________________________________________________________\n"
          ]
        }
      ],
      "source": [
        "model = keras.models.Sequential()\n",
        "\n",
        "# Create Model Structure\n",
        "model.add(keras.layers.Input(shape=[28, 28, 3]))\n",
        "model.add(keras.layers.Conv2D(32, (3, 3), activation='relu', padding='same', kernel_initializer='he_normal'))\n",
        "model.add(keras.layers.MaxPooling2D())\n",
        "model.add(keras.layers.BatchNormalization())\n",
        "\n",
        "model.add(keras.layers.Conv2D(64, (3, 3), activation='relu', padding='same', kernel_initializer='he_normal'))\n",
        "model.add(keras.layers.Conv2D(64, (3, 3), activation='relu', padding='same', kernel_initializer='he_normal'))\n",
        "model.add(keras.layers.MaxPooling2D())\n",
        "model.add(keras.layers.BatchNormalization())\n",
        "\n",
        "model.add(keras.layers.Conv2D(128, (3, 3), activation='relu', padding='same', kernel_initializer='he_normal'))\n",
        "model.add(keras.layers.Conv2D(128, (3, 3), activation='relu', padding='same', kernel_initializer='he_normal'))\n",
        "model.add(keras.layers.MaxPooling2D())\n",
        "model.add(keras.layers.BatchNormalization())\n",
        "\n",
        "model.add(keras.layers.Flatten())\n",
        "model.add(keras.layers.Dropout(rate=0.2))\n",
        "\n",
        "\n",
        "model.add(keras.layers.Dense(units=128, activation='relu', kernel_initializer='he_normal'))\n",
        "model.add(keras.layers.BatchNormalization())\n",
        "\n",
        "model.add(keras.layers.Dense(units=64, activation='relu', kernel_initializer='he_normal'))\n",
        "model.add(keras.layers.BatchNormalization())\n",
        "\n",
        "model.add(keras.layers.Dense(units=32, activation='relu', kernel_initializer='he_normal', kernel_regularizer=keras.regularizers.L1L2()))\n",
        "model.add(keras.layers.BatchNormalization())\n",
        "\n",
        "model.add(keras.layers.Dense(units=7, activation='softmax'))\n",
        "model.compile(Adam(learning_rate= 0.001), loss= 'categorical_crossentropy', metrics= ['accuracy'])\n",
        "\n",
        "model.summary()"
      ]
    },
    {
      "cell_type": "markdown",
      "id": "W3WIEJe3VZv9",
      "metadata": {
        "id": "W3WIEJe3VZv9"
      },
      "source": [
        "## Training The Model On Training Set"
      ]
    },
    {
      "cell_type": "code",
      "execution_count": 17,
      "id": "14c6f4f4",
      "metadata": {
        "colab": {
          "base_uri": "https://localhost:8080/"
        },
        "execution": {
          "iopub.execute_input": "2023-11-09T03:29:09.193279Z",
          "iopub.status.busy": "2023-11-09T03:29:09.192843Z",
          "iopub.status.idle": "2023-11-09T04:01:54.396467Z",
          "shell.execute_reply": "2023-11-09T04:01:54.395202Z"
        },
        "id": "14c6f4f4",
        "outputId": "1c8c8292-efa4-47f5-c9eb-fab72bc0e0a4",
        "papermill": {
          "duration": 1965.877272,
          "end_time": "2023-11-09T04:01:55.052794",
          "exception": false,
          "start_time": "2023-11-09T03:29:09.175522",
          "status": "completed"
        },
        "tags": []
      },
      "outputs": [
        {
          "name": "stdout",
          "output_type": "stream",
          "text": [
            "Epoch 1/25\n",
            "276/276 [==============================] - 13s 14ms/step - loss: 0.8303 - accuracy: 0.7091 - val_loss: 0.6613 - val_accuracy: 0.7513 - lr: 0.0010\n",
            "Epoch 2/25\n",
            "276/276 [==============================] - 2s 9ms/step - loss: 0.3461 - accuracy: 0.8780 - val_loss: 0.3311 - val_accuracy: 0.8758 - lr: 0.0010\n",
            "Epoch 3/25\n",
            "276/276 [==============================] - 3s 9ms/step - loss: 0.2214 - accuracy: 0.9225 - val_loss: 0.3116 - val_accuracy: 0.8875 - lr: 0.0010\n",
            "Epoch 4/25\n",
            "276/276 [==============================] - 2s 9ms/step - loss: 0.1628 - accuracy: 0.9423 - val_loss: 0.2814 - val_accuracy: 0.8965 - lr: 0.0010\n",
            "Epoch 5/25\n",
            "276/276 [==============================] - 2s 9ms/step - loss: 0.1221 - accuracy: 0.9569 - val_loss: 0.1476 - val_accuracy: 0.9497 - lr: 0.0010\n",
            "Epoch 6/25\n",
            "276/276 [==============================] - 2s 9ms/step - loss: 0.1066 - accuracy: 0.9624 - val_loss: 0.1686 - val_accuracy: 0.9417 - lr: 0.0010\n",
            "Epoch 7/25\n",
            "276/276 [==============================] - 2s 9ms/step - loss: 0.0848 - accuracy: 0.9716 - val_loss: 0.1166 - val_accuracy: 0.9618 - lr: 0.0010\n",
            "Epoch 8/25\n",
            "276/276 [==============================] - 2s 9ms/step - loss: 0.0821 - accuracy: 0.9711 - val_loss: 0.1229 - val_accuracy: 0.9579 - lr: 0.0010\n",
            "Epoch 9/25\n",
            "276/276 [==============================] - 2s 9ms/step - loss: 0.0607 - accuracy: 0.9790 - val_loss: 0.0931 - val_accuracy: 0.9720 - lr: 0.0010\n",
            "Epoch 10/25\n",
            "276/276 [==============================] - 2s 9ms/step - loss: 0.0597 - accuracy: 0.9800 - val_loss: 0.2262 - val_accuracy: 0.9242 - lr: 0.0010\n",
            "Epoch 11/25\n",
            "272/276 [============================>.] - ETA: 0s - loss: 0.0560 - accuracy: 0.9812\n",
            "Epoch 11: ReduceLROnPlateau reducing learning rate to 0.0005000000237487257.\n",
            "276/276 [==============================] - 2s 9ms/step - loss: 0.0558 - accuracy: 0.9812 - val_loss: 0.1799 - val_accuracy: 0.9495 - lr: 0.0010\n",
            "Epoch 12/25\n",
            "276/276 [==============================] - 2s 9ms/step - loss: 0.0195 - accuracy: 0.9943 - val_loss: 0.0464 - val_accuracy: 0.9874 - lr: 5.0000e-04\n",
            "Epoch 13/25\n",
            "276/276 [==============================] - 2s 9ms/step - loss: 0.0074 - accuracy: 0.9983 - val_loss: 0.0557 - val_accuracy: 0.9863 - lr: 5.0000e-04\n",
            "Epoch 14/25\n",
            "274/276 [============================>.] - ETA: 0s - loss: 0.0065 - accuracy: 0.9982\n",
            "Epoch 14: ReduceLROnPlateau reducing learning rate to 0.0002500000118743628.\n",
            "276/276 [==============================] - 2s 9ms/step - loss: 0.0066 - accuracy: 0.9982 - val_loss: 0.0509 - val_accuracy: 0.9870 - lr: 5.0000e-04\n",
            "Epoch 15/25\n",
            "276/276 [==============================] - 2s 9ms/step - loss: 0.0040 - accuracy: 0.9991 - val_loss: 0.0664 - val_accuracy: 0.9832 - lr: 2.5000e-04\n",
            "Epoch 16/25\n",
            "272/276 [============================>.] - ETA: 0s - loss: 0.0025 - accuracy: 0.9996\n",
            "Epoch 16: ReduceLROnPlateau reducing learning rate to 0.0001250000059371814.\n",
            "276/276 [==============================] - 2s 9ms/step - loss: 0.0025 - accuracy: 0.9996 - val_loss: 0.0539 - val_accuracy: 0.9873 - lr: 2.5000e-04\n",
            "Epoch 17/25\n",
            "276/276 [==============================] - 3s 9ms/step - loss: 0.0021 - accuracy: 0.9996 - val_loss: 0.0520 - val_accuracy: 0.9871 - lr: 1.2500e-04\n",
            "Epoch 18/25\n",
            "274/276 [============================>.] - ETA: 0s - loss: 0.0017 - accuracy: 0.9998\n",
            "Epoch 18: ReduceLROnPlateau reducing learning rate to 6.25000029685907e-05.\n",
            "276/276 [==============================] - 2s 9ms/step - loss: 0.0017 - accuracy: 0.9998 - val_loss: 0.0534 - val_accuracy: 0.9870 - lr: 1.2500e-04\n",
            "Epoch 19/25\n",
            "276/276 [==============================] - 2s 9ms/step - loss: 0.0016 - accuracy: 0.9997 - val_loss: 0.0505 - val_accuracy: 0.9876 - lr: 6.2500e-05\n",
            "Epoch 20/25\n",
            "276/276 [==============================] - 2s 9ms/step - loss: 0.0013 - accuracy: 0.9998 - val_loss: 0.0514 - val_accuracy: 0.9877 - lr: 6.2500e-05\n",
            "Epoch 21/25\n",
            "273/276 [============================>.] - ETA: 0s - loss: 0.0011 - accuracy: 0.9999\n",
            "Epoch 21: ReduceLROnPlateau reducing learning rate to 3.125000148429535e-05.\n",
            "276/276 [==============================] - 2s 9ms/step - loss: 0.0012 - accuracy: 0.9999 - val_loss: 0.0541 - val_accuracy: 0.9870 - lr: 6.2500e-05\n",
            "Epoch 22/25\n",
            "276/276 [==============================] - 3s 9ms/step - loss: 0.0013 - accuracy: 0.9999 - val_loss: 0.0540 - val_accuracy: 0.9876 - lr: 3.1250e-05\n",
            "Epoch 23/25\n",
            "270/276 [============================>.] - ETA: 0s - loss: 9.9231e-04 - accuracy: 0.9999\n",
            "Epoch 23: ReduceLROnPlateau reducing learning rate to 1.5625000742147677e-05.\n",
            "276/276 [==============================] - 2s 9ms/step - loss: 0.0010 - accuracy: 0.9999 - val_loss: 0.0543 - val_accuracy: 0.9872 - lr: 3.1250e-05\n",
            "Epoch 24/25\n",
            "276/276 [==============================] - 2s 9ms/step - loss: 0.0010 - accuracy: 0.9998 - val_loss: 0.0517 - val_accuracy: 0.9876 - lr: 1.5625e-05\n",
            "Epoch 25/25\n",
            "272/276 [============================>.] - ETA: 0s - loss: 0.0011 - accuracy: 0.9999\n",
            "Epoch 25: ReduceLROnPlateau reducing learning rate to 1e-05.\n",
            "276/276 [==============================] - 2s 9ms/step - loss: 0.0012 - accuracy: 0.9998 - val_loss: 0.0529 - val_accuracy: 0.9874 - lr: 1.5625e-05\n"
          ]
        }
      ],
      "source": [
        "history = model.fit(X_train ,\n",
        "                    y_train ,\n",
        "                    epochs=25 ,\n",
        "                    batch_size=128,\n",
        "                    validation_data=(X_test , y_test) ,\n",
        "                    callbacks=[learning_rate_reduction])\n",
        "                #    )"
      ]
    },
    {
      "cell_type": "markdown",
      "id": "tpDs8orfVmc6",
      "metadata": {
        "id": "tpDs8orfVmc6"
      },
      "source": [
        "## Function To Plot Training v/s validation Loss, Training v/s validation Accuracy  "
      ]
    },
    {
      "cell_type": "code",
      "execution_count": 18,
      "id": "43c60f34",
      "metadata": {
        "execution": {
          "iopub.execute_input": "2023-11-09T04:01:56.428990Z",
          "iopub.status.busy": "2023-11-09T04:01:56.427787Z",
          "iopub.status.idle": "2023-11-09T04:01:56.461360Z",
          "shell.execute_reply": "2023-11-09T04:01:56.460443Z"
        },
        "id": "43c60f34",
        "papermill": {
          "duration": 0.765985,
          "end_time": "2023-11-09T04:01:56.463898",
          "exception": false,
          "start_time": "2023-11-09T04:01:55.697913",
          "status": "completed"
        },
        "tags": []
      },
      "outputs": [],
      "source": [
        "def plot_training(hist):\n",
        "    tr_acc = hist.history['accuracy']\n",
        "    tr_loss = hist.history['loss']\n",
        "    val_acc = hist.history['val_accuracy']\n",
        "    val_loss = hist.history['val_loss']\n",
        "    index_loss = np.argmin(val_loss)\n",
        "    val_lowest = val_loss[index_loss]\n",
        "    index_acc = np.argmax(val_acc)\n",
        "    acc_highest = val_acc[index_acc]\n",
        "\n",
        "    plt.figure(figsize= (20, 8))\n",
        "    plt.style.use('fivethirtyeight')\n",
        "    Epochs = [i+1 for i in range(len(tr_acc))]\n",
        "    loss_label = f'best epoch= {str(index_loss + 1)}'\n",
        "    acc_label = f'best epoch= {str(index_acc + 1)}'\n",
        "\n",
        "    plt.subplot(1, 2, 1)\n",
        "    plt.plot(Epochs, tr_loss, 'r', label= 'Training loss')\n",
        "    plt.plot(Epochs, val_loss, 'g', label= 'Validation loss')\n",
        "    plt.scatter(index_loss + 1, val_lowest, s= 150, c= 'blue', label= loss_label)\n",
        "    plt.title('Training and Validation Loss')\n",
        "    plt.xlabel('Epochs')\n",
        "    plt.ylabel('Loss')\n",
        "    plt.legend()\n",
        "\n",
        "    plt.subplot(1, 2, 2)\n",
        "    plt.plot(Epochs, tr_acc, 'r', label= 'Training Accuracy')\n",
        "    plt.plot(Epochs, val_acc, 'g', label= 'Validation Accuracy')\n",
        "    plt.scatter(index_acc + 1 , acc_highest, s= 150, c= 'blue', label= acc_label)\n",
        "    plt.title('Training and Validation Accuracy')\n",
        "    plt.xlabel('Epochs')\n",
        "    plt.ylabel('Accuracy')\n",
        "    plt.legend()\n",
        "\n",
        "    plt.tight_layout\n",
        "    plt.show()"
      ]
    },
    {
      "cell_type": "code",
      "execution_count": 19,
      "id": "e4334d39",
      "metadata": {
        "colab": {
          "base_uri": "https://localhost:8080/",
          "height": 506
        },
        "execution": {
          "iopub.execute_input": "2023-11-09T04:01:57.777361Z",
          "iopub.status.busy": "2023-11-09T04:01:57.776350Z",
          "iopub.status.idle": "2023-11-09T04:01:58.641215Z",
          "shell.execute_reply": "2023-11-09T04:01:58.640086Z"
        },
        "id": "e4334d39",
        "outputId": "88d4c8b3-576c-4f86-81ab-8b300ad78a3d",
        "papermill": {
          "duration": 1.522978,
          "end_time": "2023-11-09T04:01:58.644947",
          "exception": false,
          "start_time": "2023-11-09T04:01:57.121969",
          "status": "completed"
        },
        "tags": []
      },
      "outputs": [
        {
          "data": {
            "image/png": "[encoded data removed]",
            "text/plain": [
              "<Figure size 2000x800 with 2 Axes>"
            ]
          },
          "metadata": {},
          "output_type": "display_data"
        }
      ],
      "source": [
        "plot_training(history)\n"
      ]
    },
    {
      "cell_type": "markdown",
      "id": "Dj_iydusV_MT",
      "metadata": {
        "id": "Dj_iydusV_MT"
      },
      "source": [
        "## Evaluating Model On Training And Test Set"
      ]
    },
    {
      "cell_type": "code",
      "execution_count": 20,
      "id": "fec28a0e",
      "metadata": {
        "colab": {
          "base_uri": "https://localhost:8080/"
        },
        "execution": {
          "iopub.execute_input": "2023-11-09T04:02:00.042188Z",
          "iopub.status.busy": "2023-11-09T04:02:00.041258Z",
          "iopub.status.idle": "2023-11-09T04:02:50.884369Z",
          "shell.execute_reply": "2023-11-09T04:02:50.882977Z"
        },
        "id": "fec28a0e",
        "outputId": "62c06949-6da7-4514-f0e7-399946ab4de3",
        "papermill": {
          "duration": 51.589,
          "end_time": "2023-11-09T04:02:50.886931",
          "exception": false,
          "start_time": "2023-11-09T04:01:59.297931",
          "status": "completed"
        },
        "tags": []
      },
      "outputs": [
        {
          "name": "stdout",
          "output_type": "stream",
          "text": [
            "1101/1101 [==============================] - 3s 3ms/step - loss: 8.8054e-05 - accuracy: 1.0000\n",
            "367/367 [==============================] - 1s 3ms/step - loss: 0.0529 - accuracy: 0.9874\n",
            "Train Loss:  8.805410470813513e-05\n",
            "Train Accuracy:  1.0\n",
            "--------------------\n",
            "Test Loss:  0.052904024720191956\n",
            "Test Accuracy:  0.9873870611190796\n"
          ]
        }
      ],
      "source": [
        "train_score = model.evaluate(X_train, y_train, verbose= 1)\n",
        "test_score = model.evaluate(X_test, y_test, verbose= 1)\n",
        "\n",
        "print(\"Train Loss: \", train_score[0])\n",
        "print(\"Train Accuracy: \", train_score[1])\n",
        "print('-' * 20)\n",
        "print(\"Test Loss: \", test_score[0])\n",
        "print(\"Test Accuracy: \", test_score[1])"
      ]
    },
    {
      "cell_type": "markdown",
      "id": "n2s4zBDCWYBw",
      "metadata": {
        "id": "n2s4zBDCWYBw"
      },
      "source": [
        "## Converting Test set to numpy array and predicting the values."
      ]
    },
    {
      "cell_type": "code",
      "execution_count": 21,
      "id": "d61571b3",
      "metadata": {
        "colab": {
          "base_uri": "https://localhost:8080/"
        },
        "execution": {
          "iopub.execute_input": "2023-11-09T04:02:52.301521Z",
          "iopub.status.busy": "2023-11-09T04:02:52.301083Z",
          "iopub.status.idle": "2023-11-09T04:03:01.156954Z",
          "shell.execute_reply": "2023-11-09T04:03:01.155768Z"
        },
        "id": "d61571b3",
        "outputId": "7883df25-9edc-4c03-fdae-1c313b573384",
        "papermill": {
          "duration": 9.569001,
          "end_time": "2023-11-09T04:03:01.159969",
          "exception": false,
          "start_time": "2023-11-09T04:02:51.590968",
          "status": "completed"
        },
        "tags": []
      },
      "outputs": [
        {
          "name": "stdout",
          "output_type": "stream",
          "text": [
            "367/367 [==============================] - 1s 2ms/step\n"
          ]
        }
      ],
      "source": [
        "y_true = np.array(y_test)\n",
        "y_pred = model.predict(X_test)\n",
        "\n",
        "y_pred = np.argmax(y_pred , axis=1)\n",
        "y_true = np.argmax(y_true , axis=1)"
      ]
    },
    {
      "cell_type": "markdown",
      "id": "opLs0_n-Wj2R",
      "metadata": {
        "id": "opLs0_n-Wj2R"
      },
      "source": [
        "## Creating List Of Classes Labels"
      ]
    },
    {
      "cell_type": "code",
      "execution_count": 22,
      "id": "97fedf61",
      "metadata": {
        "colab": {
          "base_uri": "https://localhost:8080/"
        },
        "execution": {
          "iopub.execute_input": "2023-11-09T04:03:02.666530Z",
          "iopub.status.busy": "2023-11-09T04:03:02.665846Z",
          "iopub.status.idle": "2023-11-09T04:03:02.672075Z",
          "shell.execute_reply": "2023-11-09T04:03:02.670822Z"
        },
        "id": "97fedf61",
        "outputId": "d975da8e-8497-48e8-f138-47fc5c465afb",
        "papermill": {
          "duration": 0.722464,
          "end_time": "2023-11-09T04:03:02.674653",
          "exception": false,
          "start_time": "2023-11-09T04:03:01.952189",
          "status": "completed"
        },
        "tags": []
      },
      "outputs": [
        {
          "name": "stdout",
          "output_type": "stream",
          "text": [
            "[4, 6, 2, 1, 5, 0, 3]\n"
          ]
        }
      ],
      "source": [
        "classes_labels = []\n",
        "for key in classes.keys():\n",
        "    classes_labels.append(key)\n",
        "\n",
        "print(classes_labels)"
      ]
    },
    {
      "cell_type": "markdown",
      "id": "satxJL8ZW5dR",
      "metadata": {
        "id": "satxJL8ZW5dR"
      },
      "source": [
        "## Saving The CNN Model"
      ]
    },
    {
      "cell_type": "code",
      "execution_count": 24,
      "id": "6e5e7bcd",
      "metadata": {
        "colab": {
          "base_uri": "https://localhost:8080/"
        },
        "execution": {
          "iopub.execute_input": "2023-11-09T04:03:06.281831Z",
          "iopub.status.busy": "2023-11-09T04:03:06.281020Z",
          "iopub.status.idle": "2023-11-09T04:03:06.399394Z",
          "shell.execute_reply": "2023-11-09T04:03:06.398314Z"
        },
        "id": "6e5e7bcd",
        "outputId": "b6560e93-dcc6-4ee0-f8a2-a8832e1ac96c",
        "papermill": {
          "duration": 0.842478,
          "end_time": "2023-11-09T04:03:06.402210",
          "exception": false,
          "start_time": "2023-11-09T04:03:05.559732",
          "status": "completed"
        },
        "tags": []
      },
      "outputs": [
        {
          "name": "stderr",
          "output_type": "stream",
          "text": [
            "/usr/local/lib/python3.10/dist-packages/keras/src/engine/training.py:3103: UserWarning: You are saving your model as an HDF5 file via `model.save()`. This file format is considered legacy. We recommend using instead the native Keras format, e.g. `model.save('my_model.keras')`.\n",
            "  saving_api.save_model(\n"
          ]
        }
      ],
      "source": [
        "model.save('Skin Cancer.h5')"
      ]
    },
    {
      "cell_type": "code",
      "execution_count": 26,
      "id": "5881f035",
      "metadata": {
        "id": "5881f035",
        "papermill": {
          "duration": 0.729595,
          "end_time": "2023-11-09T04:03:14.791041",
          "exception": false,
          "start_time": "2023-11-09T04:03:14.061446",
          "status": "completed"
        },
        "tags": []
      },
      "outputs": [],
      "source": [
        "import PIL"
      ]
    },
    {
      "cell_type": "code",
      "execution_count": 37,
      "id": "YUlaZ1gUZl5p",
      "metadata": {
        "id": "YUlaZ1gUZl5p"
      },
      "outputs": [],
      "source": [
        "image = PIL.Image.open(\"/content/02-Blog_MelanocyticNevus_Aug2018 (1).jpg\")\n",
        "image = image.resize((28, 28))\n",
        "img_reshape = np.array(image).reshape(-1, 28, 28, 3)"
      ]
    },
    {
      "cell_type": "code",
      "execution_count": 38,
      "id": "8PV3ZI39aGDO",
      "metadata": {
        "colab": {
          "base_uri": "https://localhost:8080/"
        },
        "id": "8PV3ZI39aGDO",
        "outputId": "f295d400-d226-4b34-c40a-8a96b609c8da"
      },
      "outputs": [
        {
          "name": "stdout",
          "output_type": "stream",
          "text": [
            "1/1 [==============================] - 0s 23ms/step\n"
          ]
        }
      ],
      "source": [
        "result = model.predict(img_reshape)"
      ]
    },
    {
      "cell_type": "code",
      "execution_count": 39,
      "id": "VHV4CpNna332",
      "metadata": {
        "colab": {
          "base_uri": "https://localhost:8080/"
        },
        "id": "VHV4CpNna332",
        "outputId": "f769cf3e-a685-45d5-fa1f-00d6d9a0a9c5"
      },
      "outputs": [
        {
          "name": "stdout",
          "output_type": "stream",
          "text": [
            "[5.0898618e-03 7.4846120e-08 1.6063221e-02 1.0132939e-07 1.6851033e-01\n",
            " 1.9007511e-02 7.9132891e-01]\n"
          ]
        }
      ],
      "source": [
        "print(result[0])"
      ]
    },
    {
      "cell_type": "code",
      "execution_count": 40,
      "id": "WFY2PGhoa58b",
      "metadata": {
        "colab": {
          "base_uri": "https://localhost:8080/"
        },
        "id": "WFY2PGhoa58b",
        "outputId": "81d592a4-7ee5-46b2-8c0e-26698401731e"
      },
      "outputs": [
        {
          "data": {
            "text/plain": [
              "('mel', 'melanoma')"
            ]
          },
          "execution_count": 40,
          "metadata": {},
          "output_type": "execute_result"
        }
      ],
      "source": [
        "classes[np.argmax(result[0])]"
      ]
    }
  ],
  "metadata": {
    "accelerator": "GPU",
    "colab": {
      "gpuType": "A100",
      "provenance": []
    },
    "kaggle": {
      "accelerator": "none",
      "dataSources": [
        {
          "datasetId": 54339,
          "sourceId": 104884,
          "sourceType": "datasetVersion"
        }
      ],
      "dockerImageVersionId": 30558,
      "isGpuEnabled": false,
      "isInternetEnabled": false,
      "language": "python",
      "sourceType": "notebook"
    },
    "kernelspec": {
      "display_name": "Python 3",
      "name": "python3"
    },
    "language_info": {
      "codemirror_mode": {
        "name": "ipython",
        "version": 3
      },
      "file_extension": ".py",
      "mimetype": "text/x-python",
      "name": "python",
      "nbconvert_exporter": "python",
      "pygments_lexer": "ipython3",
      "version": "3.10.12"
    },
    "papermill": {
      "default_parameters": {},
      "duration": 2077.126056,
      "end_time": "2023-11-09T04:03:18.197451",
      "environment_variables": {},
      "exception": null,
      "input_path": "__notebook__.ipynb",
      "output_path": "__notebook__.ipynb",
      "parameters": {},
      "start_time": "2023-11-09T03:28:41.071395",
      "version": "2.4.0"
    }
  },
  "nbformat": 4,
  "nbformat_minor": 5
}
